{
 "cells": [
  {
   "cell_type": "code",
   "execution_count": 4,
   "id": "83d700a2",
   "metadata": {},
   "outputs": [],
   "source": [
    "import os\n",
    "import re\n",
    "import json\n",
    "import time\n",
    "import boto3\n",
    "import random\n",
    "import requests\n",
    "import base64\n",
    "import sagemaker\n",
    "import pandas as pd\n",
    "\n",
    "from pprint import pprint\n",
    "from IPython.display import Image \n",
    "from sagemaker import ModelPackage\n",
    "from sagemaker import get_execution_role"
   ]
  },
  {
   "cell_type": "markdown",
   "id": "ceba2c7c",
   "metadata": {},
   "source": [
    "## Define Cell Variables and Sagemaker Sessions"
   ]
  },
  {
   "cell_type": "code",
   "execution_count": 5,
   "id": "46c575b8",
   "metadata": {},
   "outputs": [],
   "source": [
    "sagemaker_session = sagemaker.Session()\n",
    "region = sagemaker_session.boto_region_name\n",
    "account_id = sagemaker_session.account_id()\n",
    "\n",
    "role = get_execution_role()\n",
    "model_package_arn = \"arn:aws:sagemaker:us-east-1:628804397842:model-package/snap2place-2021-12-16\"\n",
    "model_name= \"snap2place-2021-12-16\"\n",
    "\n",
    "real_time_inference_instance_type = \"ml.m5d.4xlarge\"\n",
    "batch_transform_inference_instance_type = \"ml.m5.4xlarge\"\n",
    "batch_transform_inference_instance_count = 10\n",
    "\n",
    "content_type = \"application/json\""
   ]
  },
  {
   "cell_type": "markdown",
   "id": "25d2e71b",
   "metadata": {},
   "source": [
    "## Create Endpoint"
   ]
  },
  {
   "cell_type": "code",
   "execution_count": 7,
   "id": "4ace659a",
   "metadata": {},
   "outputs": [
    {
     "name": "stdout",
     "output_type": "stream",
     "text": [
      "-----!"
     ]
    }
   ],
   "source": [
    "# create a deployable model from the model package.\n",
    "model = ModelPackage(\n",
    "    role=role, model_package_arn=model_package_arn, sagemaker_session=sagemaker_session\n",
    ")\n",
    "\n",
    "# Deploy the model\n",
    "predictor = model.deploy(1, real_time_inference_instance_type, endpoint_name=model_name)"
   ]
  },
  {
   "cell_type": "markdown",
   "id": "5813fe5a",
   "metadata": {},
   "source": [
    "## Run Inference with single point"
   ]
  },
  {
   "cell_type": "code",
   "execution_count": 8,
   "id": "cb08f8db",
   "metadata": {},
   "outputs": [],
   "source": [
    "# Example payload\n",
    "payload = '{\"lat\":33.89382700435817,\"lng\":-118.36993614211679}'"
   ]
  },
  {
   "cell_type": "code",
   "execution_count": 9,
   "id": "78a9f931",
   "metadata": {},
   "outputs": [
    {
     "name": "stdout",
     "output_type": "stream",
     "text": [
      "{\"venues\":[[\"582378fec4c9fa2d07af3a81\",0.3463153380197817],[\"4b0dc578f964a520c94f23e3\",0.2756845236101784],[\"575064be498e851d7d384392\",0.21033035875488454],[\"5dcf240eb4b85f0007f0b866\",0.11044341115771941],[\"4fb260c7e4b0da11f3368411\",0.019192698486826257],[\"5d8d530cd2219e000806d96b\",0.0129994458361149],[\"4becaae88bbcc92876a88cb1\",0.012861944704440053],[\"511d07f6e4b0113e087dbb38\",0.012172279430054634]]}\n"
     ]
    }
   ],
   "source": [
    "client = boto3.client('sagemaker-runtime', region_name='us-east-1' )\n",
    "\n",
    "response = client.invoke_endpoint(\n",
    "            EndpointName=model_name,\n",
    "            ContentType=content_type,\n",
    "            Accept=content_type,\n",
    "            Body=payload)\n",
    "\n",
    "print(response['Body'].read().decode('utf-8'))"
   ]
  },
  {
   "cell_type": "code",
   "execution_count": 10,
   "id": "6e87d326",
   "metadata": {},
   "outputs": [],
   "source": [
    "model.sagemaker_session.delete_endpoint(model_name)\n",
    "model.sagemaker_session.delete_endpoint_config(model_name)"
   ]
  },
  {
   "cell_type": "markdown",
   "id": "b1ea1de3",
   "metadata": {},
   "source": [
    "## Run Batch Inference"
   ]
  },
  {
   "cell_type": "code",
   "execution_count": 11,
   "id": "b12942d4",
   "metadata": {},
   "outputs": [],
   "source": [
    "transformer = model.transformer(1, batch_transform_inference_instance_type)"
   ]
  },
  {
   "cell_type": "code",
   "execution_count": 26,
   "id": "32503dcf",
   "metadata": {},
   "outputs": [
    {
     "name": "stdout",
     "output_type": "stream",
     "text": [
      ".........................................\u001b[32m2021-12-19T22:43:05.403:[sagemaker logs]: MaxConcurrentTransforms=1, MaxPayloadInMB=6, BatchStrategy=MULTI_RECORD\u001b[0m\n",
      "\u001b[34m22:43:01,709 |-INFO in ch.qos.logback.classic.LoggerContext[default] - Found resource [/opt/ml/code/logback.xml] at [file:/opt/ml/code/logback.xml]\u001b[0m\n",
      "\u001b[34m22:43:01,773 |-INFO in ch.qos.logback.classic.joran.action.ConfigurationAction - debug attribute not set\u001b[0m\n",
      "\u001b[34m22:43:01,788 |-ERROR in ch.qos.logback.core.joran.spi.Interpreter@2:65 - no applicable action for [filter], current ElementPath  is [[configuration][filter]]\u001b[0m\n",
      "\u001b[34m22:43:01,788 |-ERROR in ch.qos.logback.core.joran.spi.Interpreter@3:12 - no applicable action for [level], current ElementPath  is [[configuration][filter][level]]\u001b[0m\n",
      "\u001b[34m22:43:01,788 |-INFO in ch.qos.logback.classic.joran.action.ConfigurationAction - End of configuration.\u001b[0m\n",
      "\u001b[34m22:43:01,790 |-INFO in ch.qos.logback.classic.joran.JoranConfigurator@70a9f84e - Registering current configuration as safe fallback point\u001b[0m\n",
      "\u001b[34mVenue data count: 760\u001b[0m\n",
      "\u001b[34mS2 data count: 10063\u001b[0m\n",
      "\u001b[35m22:43:01,709 |-INFO in ch.qos.logback.classic.LoggerContext[default] - Found resource [/opt/ml/code/logback.xml] at [file:/opt/ml/code/logback.xml]\u001b[0m\n",
      "\u001b[35m22:43:01,773 |-INFO in ch.qos.logback.classic.joran.action.ConfigurationAction - debug attribute not set\u001b[0m\n",
      "\u001b[35m22:43:01,788 |-ERROR in ch.qos.logback.core.joran.spi.Interpreter@2:65 - no applicable action for [filter], current ElementPath  is [[configuration][filter]]\u001b[0m\n",
      "\u001b[35m22:43:01,788 |-ERROR in ch.qos.logback.core.joran.spi.Interpreter@3:12 - no applicable action for [level], current ElementPath  is [[configuration][filter][level]]\u001b[0m\n",
      "\u001b[35m22:43:01,788 |-INFO in ch.qos.logback.classic.joran.action.ConfigurationAction - End of configuration.\u001b[0m\n",
      "\u001b[35m22:43:01,790 |-INFO in ch.qos.logback.classic.joran.JoranConfigurator@70a9f84e - Registering current configuration as safe fallback point\u001b[0m\n",
      "\u001b[35mVenue data count: 760\u001b[0m\n",
      "\u001b[35mS2 data count: 10063\u001b[0m\n",
      "\u001b[34mVenue data count: 643\u001b[0m\n",
      "\u001b[34mS2 data count: 21941\u001b[0m\n",
      "\u001b[35mVenue data count: 643\u001b[0m\n",
      "\u001b[35mS2 data count: 21941\u001b[0m\n",
      "\n",
      "\u001b[32m2021-12-19T22:43:05.403:[sagemaker logs]: MaxConcurrentTransforms=1, MaxPayloadInMB=6, BatchStrategy=MULTI_RECORD\u001b[0m\n",
      "\u001b[34m22:43:01,709 |-INFO in ch.qos.logback.classic.LoggerContext[default] - Found resource [/opt/ml/code/logback.xml] at [file:/opt/ml/code/logback.xml]\u001b[0m\n",
      "\u001b[34m22:43:01,773 |-INFO in ch.qos.logback.classic.joran.action.ConfigurationAction - debug attribute not set\u001b[0m\n",
      "\u001b[34m22:43:01,788 |-ERROR in ch.qos.logback.core.joran.spi.Interpreter@2:65 - no applicable action for [filter], current ElementPath  is [[configuration][filter]]\u001b[0m\n",
      "\u001b[34m22:43:01,788 |-ERROR in ch.qos.logback.core.joran.spi.Interpreter@3:12 - no applicable action for [level], current ElementPath  is [[configuration][filter][level]]\u001b[0m\n",
      "\u001b[34m22:43:01,788 |-INFO in ch.qos.logback.classic.joran.action.ConfigurationAction - End of configuration.\u001b[0m\n",
      "\u001b[34m22:43:01,790 |-INFO in ch.qos.logback.classic.joran.JoranConfigurator@70a9f84e - Registering current configuration as safe fallback point\u001b[0m\n",
      "\u001b[34mVenue data count: 760\u001b[0m\n",
      "\u001b[34mS2 data count: 10063\u001b[0m\n",
      "\u001b[35m22:43:01,709 |-INFO in ch.qos.logback.classic.LoggerContext[default] - Found resource [/opt/ml/code/logback.xml] at [file:/opt/ml/code/logback.xml]\u001b[0m\n",
      "\u001b[35m22:43:01,773 |-INFO in ch.qos.logback.classic.joran.action.ConfigurationAction - debug attribute not set\u001b[0m\n",
      "\u001b[35m22:43:01,788 |-ERROR in ch.qos.logback.core.joran.spi.Interpreter@2:65 - no applicable action for [filter], current ElementPath  is [[configuration][filter]]\u001b[0m\n",
      "\u001b[35m22:43:01,788 |-ERROR in ch.qos.logback.core.joran.spi.Interpreter@3:12 - no applicable action for [level], current ElementPath  is [[configuration][filter][level]]\u001b[0m\n",
      "\u001b[35m22:43:01,788 |-INFO in ch.qos.logback.classic.joran.action.ConfigurationAction - End of configuration.\u001b[0m\n",
      "\u001b[35m22:43:01,790 |-INFO in ch.qos.logback.classic.joran.JoranConfigurator@70a9f84e - Registering current configuration as safe fallback point\u001b[0m\n",
      "\u001b[35mVenue data count: 760\u001b[0m\n",
      "\u001b[35mS2 data count: 10063\u001b[0m\n",
      "\u001b[34mVenue data count: 643\u001b[0m\n",
      "\u001b[34mS2 data count: 21941\u001b[0m\n",
      "\u001b[35mVenue data count: 643\u001b[0m\n",
      "\u001b[35mS2 data count: 21941\u001b[0m\n"
     ]
    }
   ],
   "source": [
    "# Run a batch-transform job\n",
    "input_data_path = \"s3://4sq-product-vpc/sagemaker/v=00002/batch_data/tiny_input/test.json\"\n",
    "transformer = model.transformer(1, batch_transform_inference_instance_type)\n",
    "transformer.transform(input_data_path, content_type=content_type)\n",
    "transformer.wait()"
   ]
  },
  {
   "cell_type": "code",
   "execution_count": 27,
   "id": "93689ed7",
   "metadata": {},
   "outputs": [
    {
     "name": "stdout",
     "output_type": "stream",
     "text": [
      "{'ResponseMetadata': {'RequestId': 'H9V1F5246PM3F99Z', 'HostId': 'Mipz7Zw8mhmbkM1rej5B3cgNWfN4ijT9UGEPUwlwRLPvwXbvckEE2LCx9K74uSYGY8TkV16KbKs=', 'HTTPStatusCode': 200, 'HTTPHeaders': {'x-amz-id-2': 'Mipz7Zw8mhmbkM1rej5B3cgNWfN4ijT9UGEPUwlwRLPvwXbvckEE2LCx9K74uSYGY8TkV16KbKs=', 'x-amz-request-id': 'H9V1F5246PM3F99Z', 'date': 'Sun, 19 Dec 2021 22:43:40 GMT', 'last-modified': 'Sun, 19 Dec 2021 22:43:08 GMT', 'etag': '\"80ca3c412996308d2d7d97bcc5ebc291\"', 'x-amz-server-side-encryption': 'aws:kms', 'x-amz-server-side-encryption-aws-kms-key-id': 'arn:aws:kms:us-east-1:628804397842:key/e68dbd41-d966-4643-81e2-14d54baf9156', 'accept-ranges': 'bytes', 'content-type': 'application/octet-stream', 'server': 'AmazonS3', 'content-length': '108'}, 'RetryAttempts': 0}, 'AcceptRanges': 'bytes', 'LastModified': datetime.datetime(2021, 12, 19, 22, 43, 8, tzinfo=tzutc()), 'ContentLength': 108, 'ETag': '\"80ca3c412996308d2d7d97bcc5ebc291\"', 'ContentType': 'application/octet-stream', 'ServerSideEncryption': 'aws:kms', 'Metadata': {}, 'SSEKMSKeyId': 'arn:aws:kms:us-east-1:628804397842:key/e68dbd41-d966-4643-81e2-14d54baf9156', 'Body': <botocore.response.StreamingBody object at 0x7f980c4de390>}\n"
     ]
    }
   ],
   "source": [
    "from urllib.parse import urlparse\n",
    "parsed_url = urlparse(transformer.output_path)\n",
    "bucket_name = parsed_url.netloc\n",
    "file_key = \"{}/{}.out\".format(parsed_url.path[1:], input_data_path.split(\"/\")[-1])\n",
    "s3_client = sagemaker_session.boto_session.client(\"s3\")\n",
    "\n",
    "response = s3_client.get_object(Bucket=sagemaker_session.default_bucket(), Key=file_key)\n",
    "print(response)"
   ]
  },
  {
   "cell_type": "code",
   "execution_count": null,
   "id": "1ab8a042",
   "metadata": {},
   "outputs": [],
   "source": []
  }
 ],
 "metadata": {
  "kernelspec": {
   "display_name": "conda_python3",
   "language": "python",
   "name": "conda_python3"
  },
  "language_info": {
   "codemirror_mode": {
    "name": "ipython",
    "version": 3
   },
   "file_extension": ".py",
   "mimetype": "text/x-python",
   "name": "python",
   "nbconvert_exporter": "python",
   "pygments_lexer": "ipython3",
   "version": "3.6.13"
  }
 },
 "nbformat": 4,
 "nbformat_minor": 5
}
